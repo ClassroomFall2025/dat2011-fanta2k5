{
 "cells": [
  {
   "cell_type": "markdown",
   "id": "fdeff819",
   "metadata": {},
   "source": [
    "# Sinh Viên thực hiện Lab 1 ở Đây"
   ]
  },
  {
   "cell_type": "markdown",
   "id": "acc5d7dc",
   "metadata": {},
   "source": [
    "## Lab 1 - Bài 1"
   ]
  },
  {
   "cell_type": "code",
   "execution_count": 5,
   "id": "001e0507",
   "metadata": {},
   "outputs": [
    {
     "name": "stdout",
     "output_type": "stream",
     "text": [
      "nguyễn thế hoàng\n",
      "\n",
      "Vũng tàu \n",
      "\n",
      "20 tuổi\n",
      "\n",
      "Cao đẳng FPT polytechnic\n",
      "\n",
      "Số điện thoại: 0559550549\n",
      "\n"
     ]
    }
   ],
   "source": [
    "# Code lab 1 bài 1 ở đây\n",
    "print(\"nguyễn thế hoàng\\n\") \n",
    "print(\"Vũng tàu \\n\") \n",
    "print(\"20 tuổi\\n\") \n",
    "print(\"Cao đẳng FPT polytechnic\\n\") \n",
    "print(\"Số điện thoại: 0559550549\\n\")\n",
    "\n"
   ]
  },
  {
   "cell_type": "markdown",
   "id": "c0835310",
   "metadata": {},
   "source": [
    "## Lab 1 - Bài 2"
   ]
  },
  {
   "cell_type": "code",
   "execution_count": 6,
   "id": "fa9cb39f",
   "metadata": {},
   "outputs": [
    {
     "name": "stdout",
     "output_type": "stream",
     "text": [
      "diện tích hình chữ nhật là: 12\n",
      "chu vi hình chữ nhật là: 14\n"
     ]
    }
   ],
   "source": [
    "# Code lab 1  bài 2 ở đây\n",
    "a = int(input(\"Nhập chiều dài a: \"))\n",
    "b = int(input(\"Nhập chiều rộng b: \")) \n",
    "c = (a+b)*2\n",
    "d = a*b\n",
    "print(\"diện tích hình chữ nhật là:\", d)\n",
    "print(\"chu vi hình chữ nhật là:\", c)"
   ]
  },
  {
   "cell_type": "markdown",
   "id": "0f2483fe",
   "metadata": {},
   "source": [
    "## Lab 1 - Bài 3"
   ]
  },
  {
   "cell_type": "code",
   "execution_count": 7,
   "id": "7034990b",
   "metadata": {},
   "outputs": [
    {
     "name": "stdout",
     "output_type": "stream",
     "text": [
      "\"Sống không giận, không hờn không oán trách \n",
      "Sống mỉm cười, với thử thách chông gai \n",
      "Sống vươn lên, theo kịp ánh ban mai\n",
      "Sống chan hòa, với những người chung sống. \n",
      "\n",
      "Sống là động, nhưng Lòng Luôn bất động \n",
      "Sống Là thương, nhưng Lòng chẳng vấn vương\n",
      "Sống yên vui, danh lợi mãi coi thường\n",
      "Tâm bất biến, giữa dòng đời vạn biến.\"\n"
     ]
    }
   ],
   "source": [
    "# Code lab 1  bài 3 ở đây\n",
    "a = \"Sống\"\n",
    "print(f\"\\\"{a} không giận, không hờn không oán trách \\n{a} mỉm cười, với thử thách chông gai \\n{a} vươn lên, theo kịp ánh ban mai\\n{a} chan hòa, với những người chung sống. \\n\\n{a} là động, nhưng Lòng Luôn bất động \\n{a} Là thương, nhưng Lòng chẳng vấn vương\\n{a} yên vui, danh lợi mãi coi thường\\nTâm bất biến, giữa dòng đời vạn biến.\\\"\")"
   ]
  },
  {
   "cell_type": "markdown",
   "id": "d36ea3d3",
   "metadata": {},
   "source": [
    "## Lab 1 - Bài 4"
   ]
  },
  {
   "cell_type": "code",
   "execution_count": 9,
   "id": "4c707ec1",
   "metadata": {},
   "outputs": [
    {
     "name": "stdout",
     "output_type": "stream",
     "text": [
      "Delta = 1.0\n",
      "Phương trình có hai nghiệm phân biệt: \n",
      " x1 = 3.0\n",
      " x2 = 2.0\n"
     ]
    }
   ],
   "source": [
    "# code lab 1 bài 4 ở đây\n",
    "\n",
    "import math \n",
    "\n",
    "# Khôi phục hàm float gốc nếu bị ghi đè\n",
    "float = __builtins__.float\n",
    "\n",
    "g = float(input(\"Nhập hệ số g: \"))\n",
    "e = float(input(\"Nhập hệ số e: \"))\n",
    "f = float(input(\"Nhập hệ số f: \"))\n",
    "\n",
    "# Tính delta\n",
    "delta = e*e - 4*g*f\n",
    "\n",
    "print(f\"Delta = {delta}\")\n",
    "if delta < 0:\n",
    "    print(\"Phương trình vô nghiệm\")\n",
    "elif g == 0:\n",
    "    print(\"Phương trình này là phương trình bậc một\")\n",
    "elif delta == 0:\n",
    "    x = -e / (2*g)\n",
    "    print(f\"Phương trình có nghiệm kép: x1 = x2 = {x}\")\n",
    "else:\n",
    "    x1 = (-e + math.sqrt(delta)) / (2*g)\n",
    "    x2 = (-e - math.sqrt(delta)) / (2*g)\n",
    "    print(f\"Phương trình có hai nghiệm phân biệt: \\n x1 = {x1}\\n x2 = {x2}\")\n",
    "    \n",
    "\n",
    "\n",
    "\n"
   ]
  },
  {
   "cell_type": "markdown",
   "id": "e2b41d4a",
   "metadata": {},
   "source": [
    "## Lab 1 - Bài 5: bài tập làm thêm"
   ]
  },
  {
   "cell_type": "code",
   "execution_count": 10,
   "id": "0e0172f7",
   "metadata": {},
   "outputs": [
    {
     "name": "stdout",
     "output_type": "stream",
     "text": [
      "Số lớn nhất là: 8\n",
      "Số nhỏ nhất là: 5\n",
      "Các số chẵn là: [6, 8, 4]\n",
      "Các số lẻ là: [7]\n",
      "Các số theo thứ tự tăng dần là: [4, 5, 6, 7]\n"
     ]
    }
   ],
   "source": [
    "# code lab 1  bài làm thêm ở đây  a ,b,c,d\n",
    "a = int(input(\"Nhập số a: \"))\n",
    "b = int(input(\"Nhập số b: \"))\n",
    "c = int(input(\"Nhập số c: \"))\n",
    "d = int(input(\"Nhập số d: \"))\n",
    "max_value = max(a, b, c, d)\n",
    "min_value = min(a, b, c, d)\n",
    "print(f\"Số lớn nhất là: {max_value}\")\n",
    "print(f\"Số nhỏ nhất là: {min_value}\")\n",
    "# code lab 1  bài làm thêm ở đây  e ,f,g,h\n",
    "e = int(input(\"Nhập số e: \"))\n",
    "f = int(input(\"Nhập số f: \"))\n",
    "g = int(input(\"Nhập số g: \"))\n",
    "h = int(input(\"Nhập số h: \"))\n",
    "numbers = [e, f, g, h]\n",
    "even_numbers = [num for num in numbers if num % 2 == 0]\n",
    "odd_numbers = [num for num in numbers if num % 2 != 0]\n",
    "print(f\"Các số chẵn là: {even_numbers}\")\n",
    "print(f\"Các số lẻ là: {odd_numbers}\")\n",
    "# code lab 1  bài làm thêm ở đây  i ,j,k,l\n",
    "i = int(input(\"Nhập số i: \"))\n",
    "j = int(input(\"Nhập số j: \"))\n",
    "k = int(input(\"Nhập số k: \"))\n",
    "l = int(input(\"Nhập số l: \"))\n",
    "\n",
    "numbers = [i, j, k, l]\n",
    "sorted_numbers = sorted(numbers)\n",
    "print(f\"Các số theo thứ tự tăng dần là: {sorted_numbers}\")\n"
   ]
  }
 ],
 "metadata": {
  "kernelspec": {
   "display_name": "Python 3",
   "language": "python",
   "name": "python3"
  },
  "language_info": {
   "codemirror_mode": {
    "name": "ipython",
    "version": 3
   },
   "file_extension": ".py",
   "mimetype": "text/x-python",
   "name": "python",
   "nbconvert_exporter": "python",
   "pygments_lexer": "ipython3",
   "version": "3.13.7"
  }
 },
 "nbformat": 4,
 "nbformat_minor": 5
}
