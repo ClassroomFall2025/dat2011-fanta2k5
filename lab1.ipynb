{
 "cells": [
  {
   "cell_type": "markdown",
   "id": "fdeff819",
   "metadata": {},
   "source": [
    "# Sinh Viên thực hiện Lab 1 ở Đây"
   ]
  },
  {
   "cell_type": "markdown",
   "id": "acc5d7dc",
   "metadata": {},
   "source": [
    "## Lab 1 - Bài 1"
   ]
  },
  {
   "cell_type": "code",
   "execution_count": 5,
   "id": "001e0507",
   "metadata": {},
   "outputs": [
    {
     "name": "stdout",
     "output_type": "stream",
     "text": [
      "nguyễn thế hoàng\n",
      "\n",
      "Vũng tàu \n",
      "\n",
      "20 tuổi\n",
      "\n",
      "Cao đẳng FPT polytechnic\n",
      "\n",
      "Số điện thoại: 0559550549\n",
      "\n"
     ]
    }
   ],
   "source": [
    "# Code lab 1 bài 1 ở đây\n",
    "print(\"nguyễn thế hoàng\\n\") \n",
    "print(\"Vũng tàu \\n\") \n",
    "print(\"20 tuổi\\n\") \n",
    "print(\"Cao đẳng FPT polytechnic\\n\") \n",
    "print(\"Số điện thoại: 0559550549\\n\")\n",
    "\n"
   ]
  },
  {
   "cell_type": "markdown",
   "id": "c0835310",
   "metadata": {},
   "source": [
    "## Lab 1 - Bài 2"
   ]
  },
  {
   "cell_type": "code",
   "execution_count": 6,
   "id": "fa9cb39f",
   "metadata": {},
   "outputs": [
    {
     "name": "stdout",
     "output_type": "stream",
     "text": [
      "diện tích hình chữ nhật là: 12\n",
      "chu vi hình chữ nhật là: 14\n"
     ]
    }
   ],
   "source": [
    "# Code lab 1  bài 2 ở đây\n",
    "a = int(input(\"Nhập chiều dài a: \"))\n",
    "b = int(input(\"Nhập chiều rộng b: \")) \n",
    "c = (a+b)*2\n",
    "d = a*b\n",
    "print(\"diện tích hình chữ nhật là:\", d)\n",
    "print(\"chu vi hình chữ nhật là:\", c)"
   ]
  },
  {
   "cell_type": "markdown",
   "id": "0f2483fe",
   "metadata": {},
   "source": [
    "## Lab 1 - Bài 3"
   ]
  },
  {
   "cell_type": "code",
   "execution_count": 7,
   "id": "7034990b",
   "metadata": {},
   "outputs": [
    {
     "name": "stdout",
     "output_type": "stream",
     "text": [
      "\"Sống không giận, không hờn không oán trách \n",
      "Sống mỉm cười, với thử thách chông gai \n",
      "Sống vươn lên, theo kịp ánh ban mai\n",
      "Sống chan hòa, với những người chung sống. \n",
      "\n",
      "Sống là động, nhưng Lòng Luôn bất động \n",
      "Sống Là thương, nhưng Lòng chẳng vấn vương\n",
      "Sống yên vui, danh lợi mãi coi thường\n",
      "Tâm bất biến, giữa dòng đời vạn biến.\"\n"
     ]
    }
   ],
   "source": [
    "# Code lab 1  bài 3 ở đây\n",
    "a = \"Sống\"\n",
    "print(f\"\\\"{a} không giận, không hờn không oán trách \\n{a} mỉm cười, với thử thách chông gai \\n{a} vươn lên, theo kịp ánh ban mai\\n{a} chan hòa, với những người chung sống. \\n\\n{a} là động, nhưng Lòng Luôn bất động \\n{a} Là thương, nhưng Lòng chẳng vấn vương\\n{a} yên vui, danh lợi mãi coi thường\\nTâm bất biến, giữa dòng đời vạn biến.\\\"\")"
   ]
  },
  {
   "cell_type": "markdown",
   "id": "d36ea3d3",
   "metadata": {},
   "source": [
    "## Lab 1 - Bài 4"
   ]
  },
  {
   "cell_type": "code",
   "execution_count": 6,
   "id": "4c707ec1",
   "metadata": {},
   "outputs": [
    {
     "name": "stdout",
     "output_type": "stream",
     "text": [
      "Delta = 1.0\n",
      "Phương trình có hai nghiệm phân biệt: \n",
      " x1 = 3.0\n",
      " x2 = 2.0\n"
     ]
    }
   ],
   "source": [
    "# code lab 1 bài 4 ở đây\n",
    "\n",
    "import math \n",
    "\n",
    "# Khôi phục hàm float gốc nếu bị ghi đè\n",
    "\n",
    "\n",
    "g = float(input(\"Nhập hệ số g: \"))\n",
    "e = float(input(\"Nhập hệ số e: \"))\n",
    "f = float(input(\"Nhập hệ số f: \"))\n",
    "\n",
    "# Tính delta\n",
    "delta = e*e - 4*g*f\n",
    "\n",
    "print(f\"Delta = {delta}\")\n",
    "if delta < 0:\n",
    "    print(\"Phương trình vô nghiệm\")\n",
    "elif g == 0:\n",
    "    print(\"Phương trình này là phương trình bậc một\")\n",
    "elif delta == 0:\n",
    "    x = -e / (2*g)\n",
    "    print(f\"Phương trình có nghiệm kép: x1 = x2 = {x}\")\n",
    "else:\n",
    "    x1 = (-e + math.sqrt(delta)) / (2*g)\n",
    "    x2 = (-e - math.sqrt(delta)) / (2*g)\n",
    "    print(f\"Phương trình có hai nghiệm phân biệt: \\n x1 = {x1}\\n x2 = {x2}\")\n",
    "    \n",
    "\n",
    "\n",
    "\n"
   ]
  },
  {
   "cell_type": "markdown",
   "id": "e2b41d4a",
   "metadata": {},
   "source": [
    "## Lab 1 - Bài 5: bài tập làm thêm"
   ]
  },
  {
   "cell_type": "code",
   "execution_count": 4,
   "id": "0e0172f7",
   "metadata": {},
   "outputs": [
    {
     "name": "stdout",
     "output_type": "stream",
     "text": [
      "a+b = 9\n",
      "a-b = -1\n",
      "a*b = 20\n",
      "a/b = 0.8\n",
      "lũy thừa = 1\n",
      "\n",
      "căn bậc 2 của x = 7.745966692414834\n",
      "\n",
      "sin(a) = -0.7568024953079282\n",
      "cos(a) = -0.6536436208636119\n",
      "tan(a) = 1.1578212823495777\n",
      "sin(b) = -0.9589242746631385\n",
      "cos(b) = 0.28366218546322625\n",
      "tan(b) = -3.380515006246586\n",
      "\n",
      "log(a) = 1.3862943611198906\n",
      "log(b) = 1.6094379124341003\n",
      "log10(a) = 0.6020599913279624\n",
      "log10(b) = 0.6989700043360189\n",
      "log2(a) = 2.0\n",
      "log2(b) = 2.321928094887362\n"
     ]
    }
   ],
   "source": [
    "# code lab 1  bài làm thêm ở đây  a ,b,c,d\n",
    "#tính cộng trừ nhân chia \n",
    "a = int(input(\"Nhập số a: \"))\n",
    "b = int(input(\"Nhập số b: \"))\n",
    "\n",
    "print(f\"a+b = {a+b}\")\n",
    "print(f\"a-b = {a-b}\")\n",
    "print(f\"a*b = {a*b}\")\n",
    "print(f\"a/b = {a/b}\") \n",
    "print(f\"lũy thừa = {a^b}\\n\")\n",
    "\n",
    "#tính căn bậc 2\n",
    "x = int(input(\"Nhập số x: \"))\n",
    "print(f\"căn bậc 2 của x = {math.sqrt(x)}\\n\")\n",
    "\n",
    "\n",
    "\n",
    "#tính sin cos tan\n",
    "import math\n",
    "print(f\"sin(a) = {math.sin(a)}\")\n",
    "print(f\"cos(a) = {math.cos(a)}\")\n",
    "print(f\"tan(a) = {math.tan(a)}\")\n",
    "print(f\"sin(b) = {math.sin(b)}\")\n",
    "print(f\"cos(b) = {math.cos(b)}\")\n",
    "print(f\"tan(b) = {math.tan(b)}\\n\")\n",
    "\n",
    "#tính log\n",
    "print(f\"log(a) = {math.log(a)}\")\n",
    "print(f\"log(b) = {math.log(b)}\")\n",
    "print(f\"log10(a) = {math.log10(a)}\")\n",
    "print(f\"log10(b) = {math.log10(b)}\")\n",
    "print(f\"log2(a) = {math.log2(a)}\")\n",
    "print(f\"log2(b) = {math.log2(b)}\")"
   ]
  }
 ],
 "metadata": {
  "kernelspec": {
   "display_name": "Python 3",
   "language": "python",
   "name": "python3"
  },
  "language_info": {
   "codemirror_mode": {
    "name": "ipython",
    "version": 3
   },
   "file_extension": ".py",
   "mimetype": "text/x-python",
   "name": "python",
   "nbconvert_exporter": "python",
   "pygments_lexer": "ipython3",
   "version": "3.13.7"
  }
 },
 "nbformat": 4,
 "nbformat_minor": 5
}
