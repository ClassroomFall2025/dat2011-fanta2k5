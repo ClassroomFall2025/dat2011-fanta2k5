{
 "cells": [
  {
   "cell_type": "markdown",
   "id": "fdeff819",
   "metadata": {},
   "source": [
    "# Sinh Viên thực hiện Lab 2 ở Đây"
   ]
  },
  {
   "cell_type": "markdown",
   "id": "acc5d7dc",
   "metadata": {},
   "source": [
    "## Lab 2 - Bài 1"
   ]
  },
  {
   "cell_type": "code",
   "execution_count": 19,
   "id": "001e0507",
   "metadata": {},
   "outputs": [
    {
     "name": "stdout",
     "output_type": "stream",
     "text": [
      "từ đời có là False\n",
      "Kết quả tìm kiếm: đời có\n",
      "ĐỜI CÓ\n"
     ]
    }
   ],
   "source": [
    "# Code lab 2 bài 1 ở đây\n",
    "bai_tho = \"\"\"Kiếp con người mỏng manh như là gió\n",
    "Sống trên đời có được mấy lần vui\n",
    "Sao phải đau mà không thể mỉm cười\n",
    "Gắng buông nỗi ngậm ngùi nơi quá khứ\n",
    "\n",
    "Nếu có thể sao ta không làm thử\n",
    "Để tâm hồn khắc hai chữ bình an\n",
    "Cho đôi chân bước thanh thản nhẹ nhàng\n",
    "Dù hướng đời có muôn ngàn đá sỏi\\n\\n\"\"\"\n",
    "\n",
    "\n",
    "tu_tim_kiem = input(\"Nhập từ bạn muốn tìm: \")\n",
    "print(\"từ\", tu_tim_kiem, \"là\",\"con người\" in tu_tim_kiem)\n",
    "\n",
    "index1 = bai_tho.find(tu_tim_kiem)  \n",
    "index2 = len(tu_tim_kiem)\n",
    "tu_tim_kiem_ket_qua = bai_tho[index1:index1+index2]\n",
    "print(\"Kết quả tìm kiếm:\", tu_tim_kiem_ket_qua)\n",
    "print(tu_tim_kiem.upper())\n",
    "\n",
    "\n",
    "\n"
   ]
  },
  {
   "cell_type": "markdown",
   "id": "c0835310",
   "metadata": {},
   "source": [
    "## Lab 2 - Bài 2"
   ]
  },
  {
   "cell_type": "code",
   "execution_count": 21,
   "id": "fa9cb39f",
   "metadata": {},
   "outputs": [
    {
     "name": "stdout",
     "output_type": "stream",
     "text": [
      "... Kiếp con người mỏng manh như là gió\n",
      "Sống trên đời có được mấy lần vui\n",
      "Sao phải đau mà không thể mỉm cười\n",
      "Gắng buông nỗi ngậm ngùi nơi quá khứ\n",
      "\n",
      "Nếu có thể sao ta không làm thử\n",
      "Để tâm hồn khắc hai chữ hạnh phúc\n",
      "Cho đôi chân bước thanh thản nhẹ nhàng\n",
      "Dù hướng đời có muôn ngàn đá sỏi\n",
      "\n",
      " ...\n"
     ]
    }
   ],
   "source": [
    "# Code lab 2  bài 2 ở đây\n",
    "\n",
    "bai_tho_coppy = \"\"\"Kiếp con người mỏng manh như là gió\n",
    "Sống trên đời có được mấy lần vui\n",
    "Sao phải đau mà không thể mỉm cười\n",
    "Gắng buông nỗi ngậm ngùi nơi quá khứ\n",
    "\n",
    "Nếu có thể sao ta không làm thử\n",
    "Để tâm hồn khắc hai chữ bình an\n",
    "Cho đôi chân bước thanh thản nhẹ nhàng\n",
    "Dù hướng đời có muôn ngàn đá sỏi\\n\\n\"\"\"\n",
    "\n",
    "\n",
    "bai_tho_moi = bai_tho_coppy.replace(\"bình an\", \"hạnh phúc\")\n",
    "bai_tho_moi = \"... \" + bai_tho_moi + \" ...\"\n",
    "print(bai_tho_moi)\n",
    "\n",
    "\n",
    "\n"
   ]
  },
  {
   "cell_type": "markdown",
   "id": "0f2483fe",
   "metadata": {},
   "source": [
    "## Lab 2 - Bài 3"
   ]
  },
  {
   "cell_type": "code",
   "execution_count": 1,
   "id": "7034990b",
   "metadata": {},
   "outputs": [
    {
     "name": "stdout",
     "output_type": "stream",
     "text": [
      "nghiệm là: -1.2\n"
     ]
    }
   ],
   "source": [
    "# Code lab 2  bài 3 ở đây\n",
    "a = int(input(\"Nhập số thứ nhất: \"))\n",
    "b = int(input(\"Nhập số thứ hai: \"))\\\n",
    "\n",
    "if a == 0:\n",
    "    if b == 0:\n",
    "        print(\"vô số nghiệm\")\n",
    "    else:\n",
    "        print(\"vô nghiệm\")\n",
    "else:\n",
    "    x = -b/a\n",
    "    print(\"nghiệm là:\", x)"
   ]
  },
  {
   "cell_type": "markdown",
   "id": "d36ea3d3",
   "metadata": {},
   "source": [
    "## Lab 2 - Bài 4"
   ]
  },
  {
   "cell_type": "code",
   "execution_count": 4,
   "id": "4c707ec1",
   "metadata": {},
   "outputs": [
    {
     "name": "stdout",
     "output_type": "stream",
     "text": [
      "delta = 1.0\n",
      "căn delta= 1.0\n",
      "phương trình có hai nghiệm phân biệt: \n",
      " x1 = 3.0 \n",
      " x2 = 2.0\n"
     ]
    }
   ],
   "source": [
    "# code lab 2 bài 4 ở đây\n",
    "\n",
    "import math\n",
    "a = float(input(\"Nhập hệ số a: \"))\n",
    "b = float(input(\"Nhập hệ số b: \"))\n",
    "c = float(input(\"Nhập hệ số b: \"))\n",
    "import math\n",
    "delta = b*b-4*a*c\n",
    "print(f\"delta = {delta}\")\n",
    "print(f\"căn delta= {math.sqrt(abs(delta))}\")\n",
    "if delta < 0:\n",
    "    print(\"phương trình vô nghiệm\")\n",
    "elif delta == 0:\n",
    "    x = -b/(2*a)\n",
    "    print(\"phương trình có nghiệm kép:\", x)\n",
    "else:\n",
    "    x1 = (-b + math.sqrt(delta)) / (2*a)\n",
    "    x2 = (-b - math.sqrt(delta)) / (2*a)\n",
    "    print(\"phương trình có hai nghiệm phân biệt:\",\"\\n x1 =\", x1,\"\\n x2 =\", x2)\n",
    "\n",
    "    \n",
    "\n",
    "\n",
    "\n"
   ]
  },
  {
   "cell_type": "markdown",
   "id": "e2b41d4a",
   "metadata": {},
   "source": [
    "## Lab 2 - Bài 5: bài tập làm thêm"
   ]
  },
  {
   "cell_type": "code",
   "execution_count": null,
   "id": "0e0172f7",
   "metadata": {},
   "outputs": [
    {
     "name": "stdout",
     "output_type": "stream",
     "text": [
      "Kết quả: 3.0\n"
     ]
    }
   ],
   "source": [
    "# code lab 2  bài làm thêm ở đây \n",
    "number1 = float(input(\"Nhập số thứ nhất: \"))\n",
    "number2 = float(input(\"Nhập số thứ hai: \"))    \n",
    "toantu = input(\"Nhập phép toán (+, -, *, /): \") \n",
    "if toantu == \"+\":\n",
    "    ketqua = (number1) + (number2)\n",
    "    print(f\"Kết quả:\", ketqua)\n",
    "if toantu == \"-\":\n",
    "    ketqua = (number1) - (number2)\n",
    "    print(f\"Kết quả:\", ketqua)   \n",
    "if toantu == \"*\":\n",
    "    ketqua = (number1) * (number2)\n",
    "    print(f\"Kết quả:\", ketqua)\n",
    "if toantu == \"/\" and number2 != 0:\n",
    "        ketqua = (number1) / (number2)\n",
    "        print(f\"Kết quả:\", ketqua)"
   ]
  }
 ],
 "metadata": {
  "kernelspec": {
   "display_name": "Python 3",
   "language": "python",
   "name": "python3"
  },
  "language_info": {
   "codemirror_mode": {
    "name": "ipython",
    "version": 3
   },
   "file_extension": ".py",
   "mimetype": "text/x-python",
   "name": "python",
   "nbconvert_exporter": "python",
   "pygments_lexer": "ipython3",
   "version": "3.13.7"
  }
 },
 "nbformat": 4,
 "nbformat_minor": 5
}
