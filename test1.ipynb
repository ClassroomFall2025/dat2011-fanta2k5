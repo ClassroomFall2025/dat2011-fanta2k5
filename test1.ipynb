{
 "cells": [
  {
   "cell_type": "markdown",
   "id": "a7936f44",
   "metadata": {},
   "source": [
    "test 1"
   ]
  },
  {
   "cell_type": "code",
   "execution_count": null,
   "id": "c14af9e3",
   "metadata": {},
   "outputs": [],
   "source": [
    "# code lab 2  bài làm thêm ở đây \n",
    "number1 = float(input(\"Nhập số thứ nhất: \"))\n",
    "number2 = float(input(\"Nhập số thứ hai: \"))    \n",
    "toantu = input(\"Nhập phép toán (+, -, *, /): \") \n",
    "if toantu == \"+\":\n",
    "    ketqua = (number1) + (number2)\n",
    "    print(f\"Kết quả:\", ketqua)\n",
    "if toantu == \"-\":\n",
    "    ketqua = (number1) - (number2)\n",
    "    print(f\"Kết quả:\", ketqua)   \n",
    "if toantu == \"*\":\n",
    "    ketqua = (number1) * (number2)\n",
    "    print(f\"Kết quả:\", ketqua)\n",
    "if toantu == \"/\" and number2 != 0:\n",
    "        ketqua = (number1) / (number2)\n",
    "        print(f\"Kết quả:\", ketqua)"
   ]
  },
  {
   "cell_type": "markdown",
   "id": "7cb65a5c",
   "metadata": {},
   "source": [
    "test2"
   ]
  },
  {
   "cell_type": "code",
   "execution_count": 2,
   "id": "a1a01c41",
   "metadata": {},
   "outputs": [
    {
     "name": "stdout",
     "output_type": "stream",
     "text": [
      "Số lớn nhất là: 6.0\n",
      "Số lớn nhất là: 6.0\n"
     ]
    }
   ],
   "source": [
    "# tìm só lớn nhất trong 2 số\n",
    "so1 = float(input(\"Nhập số thứ nhất: \"))\n",
    "so2 = float(input(\"Nhập số thứ hai: \"))\n",
    "if so1 > so2:\n",
    "    print(f\"Số lớn nhất là:\", so1)\n",
    "elif so2 > so1:\n",
    "    print(f\"Số lớn nhất là:\", so2)\n",
    "else:\n",
    "    print(\"Hai số bằng nhau\")\n",
    "\n",
    "max_2so = so1 if so1 > so2 else so2\n",
    "print(f\"Số lớn nhất là:\", max_2so)"
   ]
  }
 ],
 "metadata": {
  "kernelspec": {
   "display_name": "Python 3",
   "language": "python",
   "name": "python3"
  },
  "language_info": {
   "codemirror_mode": {
    "name": "ipython",
    "version": 3
   },
   "file_extension": ".py",
   "mimetype": "text/x-python",
   "name": "python",
   "nbconvert_exporter": "python",
   "pygments_lexer": "ipython3",
   "version": "3.13.7"
  }
 },
 "nbformat": 4,
 "nbformat_minor": 5
}
