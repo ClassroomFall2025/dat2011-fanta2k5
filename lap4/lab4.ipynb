{
 "cells": [
  {
   "cell_type": "markdown",
   "id": "fdeff819",
   "metadata": {},
   "source": [
    "# Sinh Viên thực hiện Lab 4 ở Đây"
   ]
  },
  {
   "cell_type": "markdown",
   "id": "acc5d7dc",
   "metadata": {},
   "source": [
    "## Lab 1 - Bài 1"
   ]
  },
  {
   "cell_type": "code",
   "execution_count": 5,
   "id": "001e0507",
   "metadata": {},
   "outputs": [
    {
     "name": "stdout",
     "output_type": "stream",
     "text": [
      "Sản lượng 12 m3 => Tiền nước: 92,600 đồng\n",
      "Sản lượng 23 m3 => Tiền nước: 199,000 đồng\n",
      "Sản lượng 34 m3 => Tiền nước: 379,000 đồng\n"
     ]
    }
   ],
   "source": [
    "# Code lab 4 bài 1 ở đây\n",
    "# Giá bán nước theo từng bậc (đồng/m3)\n",
    "gia_ban_nuoc = (7500, 8800, 12000, 24000)\n",
    "\n",
    "def tinh_tien_nuoc(san_luong):\n",
    "    tien = 0\n",
    "    if san_luong <= 10:\n",
    "        tien = san_luong * gia_ban_nuoc[0]\n",
    "    elif san_luong <= 20:\n",
    "        tien = 10 * gia_ban_nuoc[0] + (san_luong - 10) * gia_ban_nuoc[1]\n",
    "    elif san_luong <= 30:\n",
    "        tien = (10 * gia_ban_nuoc[0] +\n",
    "                10 * gia_ban_nuoc[1] +\n",
    "                (san_luong - 20) * gia_ban_nuoc[2])\n",
    "    else:\n",
    "        tien = (10 * gia_ban_nuoc[0] +\n",
    "                10 * gia_ban_nuoc[1] +\n",
    "                10 * gia_ban_nuoc[2] +\n",
    "                (san_luong - 30) * gia_ban_nuoc[3])\n",
    "    return tien\n",
    "\n",
    "# Test với các trường hợp mẫu\n",
    "ds_san_luong = [12, 23, 34]\n",
    "for sl in ds_san_luong:\n",
    "    print(f\"Sản lượng {sl} m3 => Tiền nước: {tinh_tien_nuoc(sl):,} đồng\")\n"
   ]
  },
  {
   "cell_type": "markdown",
   "id": "c0835310",
   "metadata": {},
   "source": [
    "## Lab 4 - Bài 2"
   ]
  },
  {
   "cell_type": "code",
   "execution_count": null,
   "id": "fa9cb39f",
   "metadata": {},
   "outputs": [
    {
     "name": "stdout",
     "output_type": "stream",
     "text": [
      "Nguyên liệu cần cho hộp bánh: {'sugar': 0.46, 'bean': 0.22000000000000003}\n"
     ]
    }
   ],
   "source": [
    "# Code lab 4  bài 2 ở đây\n",
    "# Lượng nguyên liệu cho mỗi loại bánh (theo kg)\n",
    "# Cấu trúc: (đường, đậu)\n",
    "banh_dau_xanh = (0.04, 0.07)\n",
    "banh_thap_cam = (0.06, 0.0)\n",
    "banh_deo = (0.05, 0.02)\n",
    "\n",
    "def tinh_nguyen_lieu(so_dau_xanh, so_thap_cam, so_deo):\n",
    "    # Tính tổng nguyên liệu\n",
    "    duong = (so_dau_xanh * banh_dau_xanh[0] +\n",
    "             so_thap_cam * banh_thap_cam[0] +\n",
    "             so_deo * banh_deo[0])\n",
    "    \n",
    "    dau = (so_dau_xanh * banh_dau_xanh[1] +\n",
    "           so_thap_cam * banh_thap_cam[1] +\n",
    "           so_deo * banh_deo[1])\n",
    "    \n",
    "    # Kết quả trả về dạng dictionary\n",
    "    return {\"đậu\": duong, \"đường\": dau}\n",
    "\n",
    "# Ví dụ: 2 bánh đậu xanh, 3 bánh thập cẩm, 4 bánh dẻo\n",
    "ket_qua = tinh_nguyen_lieu(2, 3, 4)\n",
    "print(\"Nguyên liệu cần cho hộp bánh:\", ket_qua)\n",
    "\n",
    "\n",
    "\n"
   ]
  },
  {
   "cell_type": "markdown",
   "id": "0f2483fe",
   "metadata": {},
   "source": [
    "## Lab 4 - Bài 3"
   ]
  },
  {
   "cell_type": "code",
   "execution_count": 11,
   "id": "7034990b",
   "metadata": {},
   "outputs": [
    {
     "name": "stdout",
     "output_type": "stream",
     "text": [
      "Nhập dãy số nguyên (nhập 's' hoặc 'S' để dừng):\n",
      "Lỗi: Bạn phải nhập số nguyên!\n",
      "Dãy số ban đầu: [4, 6, 3, 5, 67, 87, 89, 765, 4, 2]\n",
      "Các số chẵn trong dãy: [4, 6, 4, 2]\n"
     ]
    }
   ],
   "source": [
    "# Code lab 4  bài 3 ở đây\n",
    "#Lọc ra các số chẵn trong dãy số nguyên\n",
    "\n",
    "# Nhập dãy số từ bàn phím\n",
    "my_list = []\n",
    "\n",
    "print(\"Nhập dãy số nguyên (nhập 's' hoặc 'S' để dừng):\")\n",
    "while True:\n",
    "    n = input(\"Nhập số: \")\n",
    "    if n.lower() == 's':   # nếu nhập s hoặc S thì dừng\n",
    "        break\n",
    "    try:\n",
    "        n = int(n)  # kiểm tra xem có phải số nguyên không\n",
    "        my_list.append(n)\n",
    "    except ValueError:\n",
    "        print(\"Lỗi: Bạn phải nhập số nguyên!\")\n",
    "\n",
    "# Lọc ra các số chẵn bằng filter + lambda\n",
    "new_list = list(filter(lambda x: x % 2 == 0, my_list))\n",
    "\n",
    "# Xuất kết quả\n",
    "print(\"Dãy số ban đầu:\", my_list)\n",
    "print(\"Các số chẵn trong dãy:\", new_list)\n"
   ]
  },
  {
   "cell_type": "markdown",
   "id": "d36ea3d3",
   "metadata": {},
   "source": [
    "## Lab 4 - Bài 4"
   ]
  },
  {
   "cell_type": "code",
   "execution_count": null,
   "id": "4c707ec1",
   "metadata": {},
   "outputs": [
    {
     "ename": "ModuleNotFoundError",
     "evalue": "No module named 'lap4menu'",
     "output_type": "error",
     "traceback": [
      "\u001b[31m---------------------------------------------------------------------------\u001b[39m",
      "\u001b[31mModuleNotFoundError\u001b[39m                       Traceback (most recent call last)",
      "\u001b[36mCell\u001b[39m\u001b[36m \u001b[39m\u001b[32mIn[2]\u001b[39m\u001b[32m, line 2\u001b[39m\n\u001b[32m      1\u001b[39m \u001b[38;5;66;03m# code lab 4 bài 4 ở đây\u001b[39;00m\n\u001b[32m----> \u001b[39m\u001b[32m2\u001b[39m \u001b[38;5;28;01mfrom\u001b[39;00m\u001b[38;5;250m \u001b[39m\u001b[34;01mlap4menu\u001b[39;00m\u001b[38;5;250m \u001b[39m\u001b[38;5;28;01mimport\u001b[39;00m tinh_tien_nuoc, tinh_nguyen_lieu\n\u001b[32m      4\u001b[39m \u001b[38;5;28;01mdef\u001b[39;00m\u001b[38;5;250m \u001b[39m\u001b[34mnhap_so_nguyen\u001b[39m(thong_diep: \u001b[38;5;28mstr\u001b[39m) -> \u001b[38;5;28mint\u001b[39m:\n\u001b[32m      5\u001b[39m     \u001b[38;5;28;01mwhile\u001b[39;00m \u001b[38;5;28;01mTrue\u001b[39;00m:\n",
      "\u001b[31mModuleNotFoundError\u001b[39m: No module named 'lap4menu'"
     ]
    }
   ],
   "source": [
    "# code lab 4 bài 4 ở đây\n",
    "from la import tinh_tien_nuoc, tinh_nguyen_lieu\n",
    "\n",
    "def nhap_so_nguyen(thong_diep: str) -> int:\n",
    "    while True:\n",
    "        try:\n",
    "            return int(input(thong_diep))\n",
    "        except ValueError:\n",
    "            print(\"Lỗi: Bạn phải nhập số nguyên!\")\n",
    "\n",
    "def menu():\n",
    "    while True:\n",
    "        print(\"\\n+--------------------------------+\")\n",
    "        print(\"1. Tính tiền nước sinh hoạt\")\n",
    "        print(\"2. Tính nguyên liệu làm bánh\")\n",
    "        print(\"3. Kết thúc\")\n",
    "        print(\"+--------------------------------+\")\n",
    "        chon = input(\"Chọn chức năng (1-3): \").strip()\n",
    "\n",
    "        if chon == \"1\":\n",
    "            sl = nhap_so_nguyen(\"Nhập số m3 nước: \")\n",
    "            try:\n",
    "                tien = tinh_tien_nuoc(sl)\n",
    "                print(f\"Tiền nước phải trả: {tien:,} đồng\")\n",
    "            except ValueError as e:\n",
    "                print(\"Lỗi:\", e)\n",
    "\n",
    "        elif chon == \"2\":\n",
    "            dx  = nhap_so_nguyen(\"Nhập số bánh đậu xanh: \")\n",
    "            tc  = nhap_so_nguyen(\"Nhập số bánh thập cẩm: \")\n",
    "            deo = nhap_so_nguyen(\"Nhập số bánh dẻo: \")\n",
    "            try:\n",
    "                kq = tinh_nguyen_lieu(dx, tc, deo)\n",
    "                print(f\"Nguyên liệu cần có: đường = {kq['sugar']} kg, đậu = {kq['bean']} kg\")\n",
    "            except ValueError as e:\n",
    "                print(\"Lỗi:\", e)\n",
    "\n",
    "        elif chon == \"3\":\n",
    "            print(\"Thoát chương trình. Tạm biệt!\")\n",
    "            break\n",
    "        else:\n",
    "            print(\"Lỗi: Vui lòng nhập số từ 1 đến 3.\")\n",
    "\n",
    "if __name__ == \"__main__\":\n",
    "    menu()\n"
   ]
  },
  {
   "cell_type": "markdown",
   "id": "e2b41d4a",
   "metadata": {},
   "source": [
    "## Lab 4 - Bài 5: bài tập làm thêm"
   ]
  },
  {
   "cell_type": "code",
   "execution_count": null,
   "id": "0e0172f7",
   "metadata": {},
   "outputs": [],
   "source": [
    "# code lab 4  bài làm thêm ở đây "
   ]
  }
 ],
 "metadata": {
  "kernelspec": {
   "display_name": "Python 3",
   "language": "python",
   "name": "python3"
  },
  "language_info": {
   "codemirror_mode": {
    "name": "ipython",
    "version": 3
   },
   "file_extension": ".py",
   "mimetype": "text/x-python",
   "name": "python",
   "nbconvert_exporter": "python",
   "pygments_lexer": "ipython3",
   "version": "3.13.7"
  }
 },
 "nbformat": 4,
 "nbformat_minor": 5
}
